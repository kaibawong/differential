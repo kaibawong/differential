{
 "cells": [
  {
   "cell_type": "code",
   "execution_count": 1,
   "metadata": {},
   "outputs": [
    {
     "name": "stdout",
     "output_type": "stream",
     "text": [
      "           Date Dated Brent Bonny light Mars    WTI Maya Europe Maya USGC  \\\n",
      "0    01.01.2000        25.5           0    0      0           0         0   \n",
      "1    01.02.2000        27.9           0    0      0           0         0   \n",
      "2    01.03.2000        27.3           0    0      0           0         0   \n",
      "3    01.04.2000        22.6           0    0      0           0         0   \n",
      "4    01.05.2000        27.6           0    0      0           0         0   \n",
      "..          ...         ...         ...  ...    ...         ...       ...   \n",
      "231  01.04.2019        71.3         1.4  5.1   -7.4        -9.8      -6.5   \n",
      "232  01.05.2019        71.1         1.9  5.9  -10.3       -10.1      -8.4   \n",
      "233  01.06.2019        64.1         1.7  4.8   -9.4        -8.1      -5.2   \n",
      "234  01.07.2019        64.0         1.4  4.5   -6.5        -6.9      -4.1   \n",
      "235  01.08.2019        59.0         1.3  2.3   -4.2       -12.6      -8.0   \n",
      "\n",
      "     ESPO Urals NWE Urals MED Dubai  \n",
      "0       0      -0.5      -0.5  -2.2  \n",
      "1       0      -0.5      -0.5  -3.2  \n",
      "2       0      -1.0      -1.5  -2.2  \n",
      "3       0      -1.0      -1.4  -0.5  \n",
      "4       0      -0.6      -1.2  -1.9  \n",
      "..    ...       ...       ...   ...  \n",
      "231   1.7      -0.1       0.4  -0.3  \n",
      "232   0.5      -0.9      -0.2  -1.7  \n",
      "233  -0.2      -2.7      -2.5  -2.3  \n",
      "234   2.3      -1.1      -0.5  -0.8  \n",
      "235   4.2      -0.1       1.2   0.1  \n",
      "\n",
      "[236 rows x 11 columns]\n",
      "0      0.191441\n",
      "1      0.209459\n",
      "2      0.204955\n",
      "3      0.169670\n",
      "4      0.207207\n",
      "         ...   \n",
      "231    0.535285\n",
      "232    0.533784\n",
      "233    0.481231\n",
      "234    0.480480\n",
      "235    0.442943\n",
      "Name: Dated Brent norm, Length: 236, dtype: float64\n",
      "Intercept: \n",
      " -0.5421657569506579\n",
      "Coefficients: \n",
      " [ 0.02515254 -0.01148187]\n",
      "                            OLS Regression Results                            \n",
      "==============================================================================\n",
      "Dep. Variable:            Bonny light   R-squared:                       0.615\n",
      "Model:                            OLS   Adj. R-squared:                  0.612\n",
      "Method:                 Least Squares   F-statistic:                     186.3\n",
      "Date:                Fri, 06 Sep 2019   Prob (F-statistic):           4.70e-49\n",
      "Time:                        08:34:44   Log-Likelihood:                -225.91\n",
      "No. Observations:                 236   AIC:                             457.8\n",
      "Df Residuals:                     233   BIC:                             468.2\n",
      "Df Model:                           2                                         \n",
      "Covariance Type:            nonrobust                                         \n",
      "===============================================================================\n",
      "                  coef    std err          t      P>|t|      [0.025      0.975]\n",
      "-------------------------------------------------------------------------------\n",
      "const          -0.5422      0.099     -5.461      0.000      -0.738      -0.347\n",
      "Dated Brent     0.0252      0.002     14.587      0.000       0.022       0.029\n",
      "Maya USGC      -0.0115      0.010     -1.160      0.247      -0.031       0.008\n",
      "==============================================================================\n",
      "Omnibus:                       23.797   Durbin-Watson:                   0.468\n",
      "Prob(Omnibus):                  0.000   Jarque-Bera (JB):               34.697\n",
      "Skew:                           0.634   Prob(JB):                     2.92e-08\n",
      "Kurtosis:                       4.386   Cond. No.                         173.\n",
      "==============================================================================\n",
      "\n",
      "Warnings:\n",
      "[1] Standard Errors assume that the covariance matrix of the errors is correctly specified.\n",
      "Predicted BL: \n",
      " [1.15506694]\n"
     ]
    },
    {
     "name": "stderr",
     "output_type": "stream",
     "text": [
      "/srv/conda/envs/notebook/lib/python3.7/site-packages/numpy/core/fromnumeric.py:2495: FutureWarning: Method .ptp is deprecated and will be removed in a future version. Use numpy.ptp instead.\n",
      "  return ptp(axis=axis, out=out, **kwargs)\n"
     ]
    }
   ],
   "source": [
    "import pandas as pd\n",
    "import numpy as np\n",
    "brdiff = pd.read_table('Historical marker crude prices_csv.csv',delimiter =';')\n",
    "brdiff = brdiff.stack().str.replace(',','.').unstack()\n",
    "brdiff=brdiff.fillna(0)\n",
    "print(brdiff)\n",
    "\n",
    "brdiff.dtypes\n",
    "brdiff =brdiff.iloc[:,1:11].astype(float)\n",
    "\n",
    "from sklearn.cluster import KMeans\n",
    "from sklearn.preprocessing import StandardScaler\n",
    "scaler = StandardScaler()\n",
    "\n",
    "brdiff[\"Dated Brent scaled\"] = scaler.fit_transform(brdiff[\"Dated Brent\"].to_frame())\n",
    "\n",
    "import matplotlib.pyplot as plt  \n",
    "\n",
    "from sklearn import linear_model\n",
    "import statsmodels.api as sm\n",
    "#X = df[['Interest_Rate','Unemployment_Rate']] # here we have 2 variables for multiple regression. If you just want to use one variable for simple linear regression, then use X = df['Interest_Rate'] for example.Alternatively, you may add additional variables within the brackets\n",
    "#Y = df['Stock_Index_Price']\n",
    " \n",
    "# with sklearn\n",
    "#regr = linear_model.LinearRegression()\n",
    "#regr.fit(X, Y)\n",
    "\n",
    "AbsB=brdiff[\"Dated Brent\"].max()\n",
    "brdiff[\"Dated Brent norm\"] = brdiff[\"Dated Brent\"].divide(AbsB)\n",
    "print(brdiff[\"Dated Brent norm\"])\n",
    "\n",
    "X = brdiff[['Dated Brent','Maya USGC']]\n",
    "Y = brdiff['Bonny light']\n",
    "regr = linear_model.LinearRegression()\n",
    "regr.fit(X, Y)\n",
    "print('Intercept: \\n', regr.intercept_)\n",
    "print('Coefficients: \\n', regr.coef_)\n",
    "\n",
    "X = sm.add_constant(X)\n",
    "model = sm.OLS(Y, X).fit()\n",
    "predictions = model.predict(X) \n",
    " \n",
    "print_model = model.summary()\n",
    "print(print_model)\n",
    "\n",
    "New_DB = 64.887\n",
    "New_Maya = -5.675\n",
    "print ('Predicted BL: \\n', regr.predict([[New_DB, New_Maya]]))"
   ]
  },
  {
   "cell_type": "code",
   "execution_count": 3,
   "metadata": {},
   "outputs": [
    {
     "data": {
      "application/vnd.jupyter.widget-view+json": {
       "model_id": "3e084d9794f8438a9ea1740ae349ff45",
       "version_major": 2,
       "version_minor": 0
      },
      "text/plain": [
       "interactive(children=(IntSlider(value=80, description='db', max=150, min=10), FloatSlider(value=0.0, descripti…"
      ]
     },
     "metadata": {},
     "output_type": "display_data"
    }
   ],
   "source": [
    "from ipywidgets import interact, interactive, fixed, interact_manual\n",
    "from ipywidgets import interactive\n",
    "import matplotlib.pyplot as plt\n",
    "import numpy as np\n",
    "plt.rcParams['figure.dpi'] = 85\n",
    "\n",
    "def f(db, m):\n",
    "#def f(db):  \n",
    "    \n",
    "    fig, (ax1, ax2) = plt.subplots(1, 2)\n",
    "    x = brdiff[\"Dated Brent\"]\n",
    "    y=regr.predict([[db, m]])\n",
    "    #y=regr.predict([[db]])\n",
    "    \n",
    "    ax1.scatter(brdiff[\"Dated Brent\"],brdiff[\"Bonny light\"])\n",
    "    ax1.scatter(db,y, s=200)\n",
    "    k1= brdiff[\"Dated Brent\"]\n",
    "    k2= brdiff[\"Maya USGC\"]\n",
    "    ax2.scatter(brdiff[\"Bonny light\"], regr.intercept_+ regr.coef_[0]*k1 + regr.coef_[1]*k2 )\n",
    "    #ax2.scatter(brdiff[\"Bonny light\"], regr.intercept_+ regr.coef_[0]*k1 )\n",
    "    ax2.set_xlim([0, 4])\n",
    "    ax2.set_ylim([0, 4])\n",
    "    ax1.set_xlabel(\"Brent price\")\n",
    "    ax1.set_ylabel(\"Bonny Light diff\")\n",
    "    ax2.set_xlabel(\"Historic Bonny Light diff\")\n",
    "    ax2.set_ylabel(\"Predicted Bonny Light diff\")\n",
    "    plt.subplots_adjust(wspace = 0.4)\n",
    "    plt.show()\n",
    "    \n",
    "    \n",
    "    \n",
    "    print(\"predicted Bonny Light is\", y )\n",
    "\n",
    "#interactive_plot = interactive(f, db=(10,150,1))\n",
    "interactive_plot = interactive(f, db=(10,150,1), m=(-6, 6, 0.1))\n",
    "output = interactive_plot.children[-1]\n",
    "output.layout.height = '350px'\n",
    "interactive_plot\n"
   ]
  },
  {
   "cell_type": "code",
   "execution_count": null,
   "metadata": {},
   "outputs": [],
   "source": []
  },
  {
   "cell_type": "code",
   "execution_count": 8,
   "metadata": {},
   "outputs": [
    {
     "name": "stdout",
     "output_type": "stream",
     "text": [
      "Intercept: \n",
      " -0.5162759538376632\n",
      "Coefficients: \n",
      " [-0.01393699 -0.94378365  2.48133925 -1.51308904]\n",
      "                            OLS Regression Results                            \n",
      "==============================================================================\n",
      "Dep. Variable:                   Mars   R-squared:                       0.909\n",
      "Model:                            OLS   Adj. R-squared:                  0.907\n",
      "Method:                 Least Squares   F-statistic:                     576.4\n",
      "Date:                Thu, 05 Sep 2019   Prob (F-statistic):          6.76e-119\n",
      "Time:                        14:42:54   Log-Likelihood:                -477.06\n",
      "No. Observations:                 236   AIC:                             964.1\n",
      "Df Residuals:                     231   BIC:                             981.4\n",
      "Df Model:                           4                                         \n",
      "Covariance Type:            nonrobust                                         \n",
      "===============================================================================\n",
      "                  coef    std err          t      P>|t|      [0.025      0.975]\n",
      "-------------------------------------------------------------------------------\n",
      "const          -0.5163      0.340     -1.519      0.130      -1.186       0.154\n",
      "Dated Brent    -0.0139      0.005     -2.728      0.007      -0.024      -0.004\n",
      "WTI            -0.9438      0.026    -36.614      0.000      -0.995      -0.893\n",
      "Urals NWE       2.4813      0.260      9.553      0.000       1.970       2.993\n",
      "Urals MED      -1.5131      0.254     -5.952      0.000      -2.014      -1.012\n",
      "==============================================================================\n",
      "Omnibus:                       64.131   Durbin-Watson:                   0.675\n",
      "Prob(Omnibus):                  0.000   Jarque-Bera (JB):              272.837\n",
      "Skew:                          -1.019   Prob(JB):                     5.68e-60\n",
      "Kurtosis:                       7.857   Cond. No.                         221.\n",
      "==============================================================================\n",
      "\n",
      "Warnings:\n",
      "[1] Standard Errors assume that the covariance matrix of the errors is correctly specified.\n",
      "Predicted Mars: \n",
      " [4.36471603]\n"
     ]
    },
    {
     "name": "stderr",
     "output_type": "stream",
     "text": [
      "/srv/conda/envs/notebook/lib/python3.7/site-packages/numpy/core/fromnumeric.py:2495: FutureWarning: Method .ptp is deprecated and will be removed in a future version. Use numpy.ptp instead.\n",
      "  return ptp(axis=axis, out=out, **kwargs)\n"
     ]
    }
   ],
   "source": [
    "\n",
    "X = brdiff[['Dated Brent','WTI','Urals NWE','Urals MED']]\n",
    "Y = brdiff['Mars']\n",
    "regr = linear_model.LinearRegression()\n",
    "regr.fit(X, Y)\n",
    "print('Intercept: \\n', regr.intercept_)\n",
    "print('Coefficients: \\n', regr.coef_)\n",
    "\n",
    "X = sm.add_constant(X)\n",
    "model = sm.OLS(Y, X).fit()\n",
    "predictions = model.predict(X) \n",
    " \n",
    "print_model = model.summary()\n",
    "print(print_model)\n",
    "\n",
    "New_DB = 64.887\n",
    "New_WTI = -7.81\n",
    "New_UralsNWE = -0.7\n",
    "New_UralsMED = -0.1\n",
    "print ('Predicted Mars: \\n', regr.predict([[New_DB, New_WTI,New_UralsNWE,New_UralsMED ]]))"
   ]
  },
  {
   "cell_type": "code",
   "execution_count": null,
   "metadata": {},
   "outputs": [],
   "source": []
  },
  {
   "cell_type": "code",
   "execution_count": 5,
   "metadata": {},
   "outputs": [
    {
     "name": "stdout",
     "output_type": "stream",
     "text": [
      "Intercept: \n",
      " -6.826578526862411\n",
      "Coefficients: \n",
      " [0.09621173]\n",
      "                            OLS Regression Results                            \n",
      "==============================================================================\n",
      "Dep. Variable:                   Mars   R-squared:                       0.230\n",
      "Model:                            OLS   Adj. R-squared:                  0.227\n",
      "Method:                 Least Squares   F-statistic:                     69.86\n",
      "Date:                Thu, 05 Sep 2019   Prob (F-statistic):           5.69e-15\n",
      "Time:                        14:42:16   Log-Likelihood:                -728.98\n",
      "No. Observations:                 236   AIC:                             1462.\n",
      "Df Residuals:                     234   BIC:                             1469.\n",
      "Df Model:                           1                                         \n",
      "Covariance Type:            nonrobust                                         \n",
      "===============================================================================\n",
      "                  coef    std err          t      P>|t|      [0.025      0.975]\n",
      "-------------------------------------------------------------------------------\n",
      "const          -6.8266      0.820     -8.320      0.000      -8.443      -5.210\n",
      "Dated Brent     0.0962      0.012      8.358      0.000       0.074       0.119\n",
      "==============================================================================\n",
      "Omnibus:                       13.142   Durbin-Watson:                   0.133\n",
      "Prob(Omnibus):                  0.001   Jarque-Bera (JB):               16.514\n",
      "Skew:                           0.429   Prob(JB):                     0.000259\n",
      "Kurtosis:                       3.971   Cond. No.                         168.\n",
      "==============================================================================\n",
      "\n",
      "Warnings:\n",
      "[1] Standard Errors assume that the covariance matrix of the errors is correctly specified.\n",
      "Predicted Mars: \n",
      " [-0.58368828]\n"
     ]
    },
    {
     "name": "stderr",
     "output_type": "stream",
     "text": [
      "/srv/conda/envs/notebook/lib/python3.7/site-packages/numpy/core/fromnumeric.py:2495: FutureWarning: Method .ptp is deprecated and will be removed in a future version. Use numpy.ptp instead.\n",
      "  return ptp(axis=axis, out=out, **kwargs)\n"
     ]
    }
   ],
   "source": [
    "X = brdiff[['Dated Brent']]\n",
    "Y = brdiff['Mars']\n",
    "regr = linear_model.LinearRegression()\n",
    "regr.fit(X, Y)\n",
    "print('Intercept: \\n', regr.intercept_)\n",
    "print('Coefficients: \\n', regr.coef_)\n",
    "\n",
    "X = sm.add_constant(X)\n",
    "model = sm.OLS(Y, X).fit()\n",
    "predictions = model.predict(X) \n",
    " \n",
    "print_model = model.summary()\n",
    "print(print_model)\n",
    "\n",
    "New_DB = 64.887\n",
    "New_WTI = -7.81\n",
    "New_UralsNWE = -0.7\n",
    "New_UralsMED = -0.1\n",
    "print ('Predicted Mars: \\n', regr.predict([[New_DB ]]))"
   ]
  },
  {
   "cell_type": "code",
   "execution_count": 9,
   "metadata": {},
   "outputs": [
    {
     "data": {
      "application/vnd.jupyter.widget-view+json": {
       "model_id": "17db6d9a8a54442bb03822006ff12504",
       "version_major": 2,
       "version_minor": 0
      },
      "text/plain": [
       "interactive(children=(IntSlider(value=80, description='db', max=150, min=10), FloatSlider(value=0.0, descripti…"
      ]
     },
     "metadata": {},
     "output_type": "display_data"
    }
   ],
   "source": [
    "from ipywidgets import interact, interactive, fixed, interact_manual\n",
    "from ipywidgets import interactive\n",
    "import matplotlib.pyplot as plt\n",
    "import numpy as np\n",
    "plt.rcParams['figure.dpi'] = 100\n",
    "\n",
    "def f(db, m1,m2,m3):\n",
    " \n",
    "    \n",
    "    fig, (ax1, ax2) = plt.subplots(1, 2)\n",
    "    x = brdiff[\"Dated Brent\"]\n",
    "    y=regr.predict([[db, m1,m2,m3]])\n",
    "    \n",
    "    \n",
    "    ax1.scatter(brdiff[\"Dated Brent\"],brdiff[\"Mars\"])\n",
    "    ax1.scatter(db,y, s=200)\n",
    "    k1= brdiff[\"Dated Brent\"]\n",
    "    k2= brdiff[\"WTI\"]\n",
    "    k3= brdiff[\"Urals NWE\"]\n",
    "    k4= brdiff[\"Urals MED\"]\n",
    "    \n",
    "    ax2.scatter(brdiff[\"Mars\"], regr.intercept_+ regr.coef_[0]*k1 + regr.coef_[1]*k2 + regr.coef_[2]*k3 + regr.coef_[3]*k4)\n",
    "    ax2.set_xlim([-10, 10])\n",
    "    ax2.set_ylim([-10, 10])\n",
    "    ax1.set_xlabel(\"Brent price\")\n",
    "    ax1.set_ylabel(\"Mars diff\")\n",
    "    ax2.set_xlabel(\"Historic Mars diff\")\n",
    "    ax2.set_ylabel(\"Predicted Mars diff\")\n",
    "    plt.subplots_adjust(wspace = 0.4)\n",
    "    plt.show()\n",
    "    \n",
    "    \n",
    "    \n",
    "    print(\"predicted Mars is\", y )\n",
    "\n",
    "\n",
    "interactive_plot = interactive(f, db=(10,150,1), m1=(-10, 10, 0.1), m2=(-6, 6, 0.1), m3=(-6, 6, 0.1))\n",
    "output = interactive_plot.children[-1]\n",
    "output.layout.height = '450px'\n",
    "interactive_plot"
   ]
  },
  {
   "cell_type": "code",
   "execution_count": 7,
   "metadata": {},
   "outputs": [
    {
     "data": {
      "application/vnd.jupyter.widget-view+json": {
       "model_id": "53d07f24ba77446096d9e2059823a7df",
       "version_major": 2,
       "version_minor": 0
      },
      "text/plain": [
       "interactive(children=(IntSlider(value=80, description='db', max=150, min=10), Output(layout=Layout(height='450…"
      ]
     },
     "metadata": {},
     "output_type": "display_data"
    }
   ],
   "source": [
    "from ipywidgets import interact, interactive, fixed, interact_manual\n",
    "from ipywidgets import interactive\n",
    "import matplotlib.pyplot as plt\n",
    "import numpy as np\n",
    "plt.rcParams['figure.dpi'] = 100\n",
    "\n",
    "def f(db):\n",
    " \n",
    "    \n",
    "    fig, (ax1, ax2) = plt.subplots(1, 2)\n",
    "    x = brdiff[\"Dated Brent\"]\n",
    "    y=regr.predict([[db]])\n",
    "    \n",
    "    \n",
    "    ax1.scatter(brdiff[\"Dated Brent\"],brdiff[\"Mars\"])\n",
    "    ax1.scatter(db,y, s=200)\n",
    "    k1= brdiff[\"Dated Brent\"]\n",
    "    k2= brdiff[\"WTI\"]\n",
    "    k3= brdiff[\"Urals NWE\"]\n",
    "    k4= brdiff[\"Urals MED\"]\n",
    "    \n",
    "    ax2.scatter(brdiff[\"Mars\"], regr.intercept_+ regr.coef_[0]*k1 )\n",
    "    ax2.set_xlim([-10, 10])\n",
    "    ax2.set_ylim([-10, 10])\n",
    "    ax1.set_xlabel(\"Brent price\")\n",
    "    ax1.set_ylabel(\"Mars diff\")\n",
    "    ax2.set_xlabel(\"Historic Mars diff\")\n",
    "    ax2.set_ylabel(\"Predicted Mars diff\")\n",
    "    plt.subplots_adjust(wspace = 0.4)\n",
    "    plt.show()\n",
    "    \n",
    "    \n",
    "    \n",
    "    print(\"predicted Mars is\", y )\n",
    "\n",
    "\n",
    "interactive_plot = interactive(f, db=(10,150,1))\n",
    "output = interactive_plot.children[-1]\n",
    "output.layout.height = '450px'\n",
    "interactive_plot"
   ]
  },
  {
   "cell_type": "code",
   "execution_count": null,
   "metadata": {},
   "outputs": [],
   "source": []
  },
  {
   "cell_type": "code",
   "execution_count": 2,
   "metadata": {},
   "outputs": [
    {
     "name": "stdout",
     "output_type": "stream",
     "text": [
      "Intercept: \n",
      " -7.126254813795303\n",
      "Coefficients: \n",
      " [-0.03086658  0.45521668]\n",
      "                            OLS Regression Results                            \n",
      "==============================================================================\n",
      "Dep. Variable:            Maya Europe   R-squared:                       0.070\n",
      "Model:                            OLS   Adj. R-squared:                  0.057\n",
      "Method:                 Least Squares   F-statistic:                     5.500\n",
      "Date:                Fri, 06 Sep 2019   Prob (F-statistic):            0.00497\n",
      "Time:                        08:34:49   Log-Likelihood:                -418.03\n",
      "No. Observations:                 150   AIC:                             842.1\n",
      "Df Residuals:                     147   BIC:                             851.1\n",
      "Df Model:                           2                                         \n",
      "Covariance Type:            nonrobust                                         \n",
      "===============================================================================\n",
      "                  coef    std err          t      P>|t|      [0.025      0.975]\n",
      "-------------------------------------------------------------------------------\n",
      "const          -7.1263      1.052     -6.773      0.000      -9.206      -5.047\n",
      "Dated Brent    -0.0309      0.013     -2.336      0.021      -0.057      -0.005\n",
      "Urals MED       0.4552      0.303      1.504      0.135      -0.143       1.054\n",
      "==============================================================================\n",
      "Omnibus:                       12.879   Durbin-Watson:                   0.255\n",
      "Prob(Omnibus):                  0.002   Jarque-Bera (JB):               14.151\n",
      "Skew:                           0.623   Prob(JB):                     0.000845\n",
      "Kurtosis:                       3.845   Cond. No.                         272.\n",
      "==============================================================================\n",
      "\n",
      "Warnings:\n",
      "[1] Standard Errors assume that the covariance matrix of the errors is correctly specified.\n"
     ]
    },
    {
     "name": "stderr",
     "output_type": "stream",
     "text": [
      "/srv/conda/envs/notebook/lib/python3.7/site-packages/numpy/core/fromnumeric.py:2495: FutureWarning: Method .ptp is deprecated and will be removed in a future version. Use numpy.ptp instead.\n",
      "  return ptp(axis=axis, out=out, **kwargs)\n"
     ]
    }
   ],
   "source": [
    "X = brdiff[['Dated Brent','Urals MED']].iloc[-150:]\n",
    "Y = brdiff['Maya Europe'].iloc[-150:]\n",
    "regr = linear_model.LinearRegression()\n",
    "regr.fit(X, Y)\n",
    "print('Intercept: \\n', regr.intercept_)\n",
    "print('Coefficients: \\n', regr.coef_)\n",
    "\n",
    "X = sm.add_constant(X)\n",
    "model = sm.OLS(Y, X).fit()\n",
    "predictions = model.predict(X) \n",
    " \n",
    "print_model = model.summary()\n",
    "print(print_model)\n",
    "\n"
   ]
  },
  {
   "cell_type": "code",
   "execution_count": 10,
   "metadata": {},
   "outputs": [
    {
     "data": {
      "application/vnd.jupyter.widget-view+json": {
       "model_id": "6437f14593c140268277171d3e316fdb",
       "version_major": 2,
       "version_minor": 0
      },
      "text/plain": [
       "interactive(children=(IntSlider(value=80, description='db', max=150, min=10), FloatSlider(value=0.0, descripti…"
      ]
     },
     "metadata": {},
     "output_type": "display_data"
    }
   ],
   "source": [
    "from ipywidgets import interact, interactive, fixed, interact_manual\n",
    "from ipywidgets import interactive\n",
    "import matplotlib.pyplot as plt\n",
    "import numpy as np\n",
    "plt.rcParams['figure.dpi'] = 150\n",
    "\n",
    "def f(db,ural):\n",
    " \n",
    "    \n",
    "    fig, (ax1, ax2) = plt.subplots(1, 2)\n",
    "    x = brdiff[\"Dated Brent\"]\n",
    "    y=regr.predict([[db,ural]])\n",
    "    \n",
    "    \n",
    "    ax1.scatter(brdiff[\"Dated Brent\"],brdiff[\"Maya Europe\"])\n",
    "    ax1.scatter(db,y, s=200)\n",
    "    k1= brdiff[\"Dated Brent\"]\n",
    "    k4= brdiff[\"Urals MED\"]\n",
    "    \n",
    "    ax2.scatter(brdiff[\"Maya Europe\"], regr.intercept_+ regr.coef_[0]*k1 )\n",
    "    ax2.set_xlim([-20, 1])\n",
    "    ax2.set_ylim([-20, 1])\n",
    "    ax1.set_xlabel(\"Brent price\")\n",
    "    ax1.set_ylabel(\"Maya Europe diff\")\n",
    "    ax2.set_xlabel(\"Historic Maya Europe  diff\")\n",
    "    ax2.set_ylabel(\"Predicted Maya Europe  diff\")\n",
    "    plt.subplots_adjust(wspace = 0.4)\n",
    "    plt.show()\n",
    "    \n",
    "    \n",
    "    \n",
    "    print(\"predicted Maya Europe  is\", y )\n",
    "\n",
    "\n",
    "interactive_plot = interactive(f, db=(10,150,1),ural =(-5,5,0.1))\n",
    "output = interactive_plot.children[-1]\n",
    "output.layout.height = '600px'\n",
    "interactive_plot"
   ]
  },
  {
   "cell_type": "code",
   "execution_count": null,
   "metadata": {},
   "outputs": [],
   "source": []
  },
  {
   "cell_type": "code",
   "execution_count": null,
   "metadata": {},
   "outputs": [],
   "source": []
  },
  {
   "cell_type": "code",
   "execution_count": null,
   "metadata": {},
   "outputs": [],
   "source": []
  }
 ],
 "metadata": {
  "kernelspec": {
   "display_name": "Python 3",
   "language": "python",
   "name": "python3"
  },
  "language_info": {
   "codemirror_mode": {
    "name": "ipython",
    "version": 3
   },
   "file_extension": ".py",
   "mimetype": "text/x-python",
   "name": "python",
   "nbconvert_exporter": "python",
   "pygments_lexer": "ipython3",
   "version": "3.7.3"
  }
 },
 "nbformat": 4,
 "nbformat_minor": 2
}
