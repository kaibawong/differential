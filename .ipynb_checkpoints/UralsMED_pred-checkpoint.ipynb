{
 "cells": [
  {
   "cell_type": "code",
   "execution_count": null,
   "metadata": {},
   "outputs": [],
   "source": [
    "aimport pandas as pd\n",
    "import numpy as np\n",
    "import matplotlib.pyplot as plt  \n",
    "from sklearn.ensemble import RandomForestRegressor\n",
    "from sklearn.cluster import KMeans\n",
    "from sklearn.preprocessing import StandardScaler\n",
    "from sklearn import linear_model\n",
    "import statsmodels.api as sm\n",
    "\n",
    "price = pd.read_table('pricelist.csv',delimiter =';')\n",
    "combi = pd.read_table('Historical_combi2.csv',delimiter =';')\n",
    "I_2011 = pd.read_table('UralNWE_2014.csv',delimiter =';')\n",
    "\n",
    "combi=combi.fillna(0)"
   ]
  },
  {
   "cell_type": "code",
   "execution_count": null,
   "metadata": {},
   "outputs": [],
   "source": [
    "I_2011"
   ]
  },
  {
   "cell_type": "code",
   "execution_count": null,
   "metadata": {},
   "outputs": [],
   "source": [
    "import datetime\n",
    "datetimes = [datetime.datetime.strptime(d, '%d.%m.%Y') for d in combi[\"Date\"]]\n",
    "\n",
    "\n",
    "df = pd.DataFrame(datetimes, columns=['date'])\n",
    "df.loc[:, 'date'] = pd.to_datetime(df['date'], format='%Y-%m-%d')\n",
    "\n",
    "combi = combi.assign(df=df['date'].values)\n",
    "#print(combi)\n"
   ]
  },
  {
   "cell_type": "code",
   "execution_count": null,
   "metadata": {},
   "outputs": [],
   "source": [
    "plt.rcParams['figure.dpi'] = 150\n",
    "\n",
    "rma60 = combi[\"Urals NWE\"].rolling(window=60).mean()\n",
    "ema60 = combi[\"Urals NWE\"].ewm(span=60, adjust=False).mean()\n",
    "plt.plot(combi[\"df\"],combi[\"Urals NWE\"])\n",
    "plt.plot(combi[\"df\"],rma60)\n",
    "plt.plot(combi[\"df\"],ema60)\n",
    "plt.legend((\"Monthly\",\"rma\",\"ema\"))\n",
    "plt.show()\n",
    "\n",
    "combi = combi.assign(ema60=ema60.values)\n",
    "combi = combi.assign(rma60=rma60.values)"
   ]
  },
  {
   "cell_type": "code",
   "execution_count": null,
   "metadata": {},
   "outputs": [],
   "source": []
  },
  {
   "cell_type": "code",
   "execution_count": null,
   "metadata": {},
   "outputs": [],
   "source": []
  }
 ],
 "metadata": {
  "kernelspec": {
   "display_name": "Python 3",
   "language": "python",
   "name": "python3"
  },
  "language_info": {
   "codemirror_mode": {
    "name": "ipython",
    "version": 3
   },
   "file_extension": ".py",
   "mimetype": "text/x-python",
   "name": "python",
   "nbconvert_exporter": "python",
   "pygments_lexer": "ipython3",
   "version": "3.7.3"
  }
 },
 "nbformat": 4,
 "nbformat_minor": 2
}
