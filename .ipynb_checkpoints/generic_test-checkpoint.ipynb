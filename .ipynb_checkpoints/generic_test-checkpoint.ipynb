{
 "cells": [
  {
   "cell_type": "code",
   "execution_count": 14,
   "metadata": {},
   "outputs": [],
   "source": [
    "import pandas as pd\n",
    "import numpy as np\n",
    "import matplotlib.pyplot as plt  \n",
    "from sklearn.ensemble import RandomForestRegressor\n",
    "combi = pd.read_table('Historical_combi2.csv',delimiter =';')\n",
    "\n",
    "combi=combi.fillna(0)\n",
    "\n",
    "\n",
    "from sklearn.cluster import KMeans\n",
    "from sklearn.preprocessing import StandardScaler\n",
    "scaler = StandardScaler()\n",
    "\n",
    "from sklearn import linear_model\n",
    "import statsmodels.api as sm"
   ]
  },
  {
   "cell_type": "code",
   "execution_count": 39,
   "metadata": {},
   "outputs": [
    {
     "name": "stdout",
     "output_type": "stream",
     "text": [
      "Enter main query first, follow by ',' and no space after ','\n",
      "NoneUrals MED,Urals NWE,Mars,Maya USGC\n"
     ]
    }
   ],
   "source": [
    "# Ask for input\n",
    "query =input(print(\"Enter main query first, follow by ',' and no space after ','\"))"
   ]
  },
  {
   "cell_type": "code",
   "execution_count": 40,
   "metadata": {},
   "outputs": [],
   "source": [
    "query_s = query.split(',')"
   ]
  },
  {
   "cell_type": "code",
   "execution_count": 44,
   "metadata": {},
   "outputs": [
    {
     "name": "stdout",
     "output_type": "stream",
     "text": [
      "Dubai\n"
     ]
    }
   ],
   "source": [
    "plotx =input()\n"
   ]
  },
  {
   "cell_type": "code",
   "execution_count": null,
   "metadata": {},
   "outputs": [],
   "source": []
  },
  {
   "cell_type": "code",
   "execution_count": 45,
   "metadata": {
    "scrolled": false
   },
   "outputs": [],
   "source": [
    "#s = combi[query_s]\n",
    "\n",
    "#s_s = s.iloc[:,0]\n",
    "#k=s_s.iloc[s_s.to_numpy().nonzero()[0]]\n",
    "#np.min(k.index.values)"
   ]
  },
  {
   "cell_type": "code",
   "execution_count": null,
   "metadata": {},
   "outputs": [],
   "source": [
    "s = combi[query_s]\n",
    "\n",
    "s_s = s.iloc[:,0]\n",
    "k=s_s.iloc[s_s.to_numpy().nonzero()[0]]\n",
    "first = np.min(k.index.values)\n",
    "\n",
    "half = int((236 - first)/2)\n",
    "\n",
    "train_combi = combi.iloc[first:first+half,1:]\n",
    "test_combi = combi.iloc[first+half:,1:]\n",
    "\n",
    "plt.rcParams['figure.dpi'] = 100\n",
    "\n",
    "x_train=train_combi.drop(query_s,axis=1)\n",
    "y_train=train_combi[query_s[0]]\n",
    "\n",
    "#df.drop('b', axis=1)\n",
    "\n",
    "\n",
    "x_test=test_combi.drop(query_s,axis=1)\n",
    "y_test=test_combi[query_s[0]]\n",
    "#y_test=test_combi[query_s].to_frame()\n",
    "\n",
    "regressor = RandomForestRegressor(n_estimators=200, max_depth=5)\n",
    "\n",
    "clf=regressor.fit(x_train, y_train)\n",
    "\n",
    "y_pred=regressor.predict(x_test)\n",
    "y_pred=pd.DataFrame(y_pred)\n",
    "\n",
    "\n",
    "plt_train=plt.scatter(x_train[plotx],y_train,   color='grey')\n",
    "plt_test=plt.scatter(x_test[plotx],y_test,   color='green')\n",
    "plt_pred=plt.scatter(x_test[plotx], y_pred,  color='black')\n",
    "\n",
    "plt.xlabel(plotx)\n",
    "plt.ylabel(query_s[0])\n",
    "plt.legend((plt_train, plt_test,plt_pred),(\"train data\", \"test data\",\"prediction\"))\n",
    "plt.show()\n",
    "\n",
    "print(\"Mean squared error: %.2f\"\n",
    "      % np.mean((regressor.predict(x_train) - y_train) ** 2))\n",
    "\n",
    "import seaborn as sns\n",
    "importances=regressor.feature_importances_\n",
    "\n",
    "indices=list(x_train)\n",
    "print(\"Feature ranking:\")\n",
    "\n",
    "for f in range(x_train.shape[1]):\n",
    "    print(\"Feature %s (%f)\" % (indices[f], importances[f]))\n",
    "\n",
    "f, (ax1) = plt.subplots(1, 1, figsize=(8, 6), sharex=True)\n",
    "sns.barplot(indices, importances, palette=\"BrBG\", ax=ax1)\n",
    "ax1.set_ylabel(\"Importance\")\n",
    "\n",
    "ax1.set_xticklabels(\n",
    "    ax1.get_xticklabels(),\n",
    "    rotation=45,\n",
    "    horizontalalignment='right'\n",
    ");\n",
    "\n",
    "\n"
   ]
  },
  {
   "cell_type": "code",
   "execution_count": null,
   "metadata": {},
   "outputs": [],
   "source": []
  }
 ],
 "metadata": {
  "kernelspec": {
   "display_name": "Python 3",
   "language": "python",
   "name": "python3"
  },
  "language_info": {
   "codemirror_mode": {
    "name": "ipython",
    "version": 3
   },
   "file_extension": ".py",
   "mimetype": "text/x-python",
   "name": "python",
   "nbconvert_exporter": "python",
   "pygments_lexer": "ipython3",
   "version": "3.7.3"
  }
 },
 "nbformat": 4,
 "nbformat_minor": 2
}
