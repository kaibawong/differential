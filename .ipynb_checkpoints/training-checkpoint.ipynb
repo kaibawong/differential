{
 "cells": [
  {
   "cell_type": "code",
   "execution_count": null,
   "metadata": {},
   "outputs": [],
   "source": [
    "import pandas as pd\n",
    "import numpy as np\n",
    "brdiff = pd.read_table('Historical marker crude prices_csv.csv',delimiter =';')\n",
    "brdiff = brdiff.stack().str.replace(',','.').unstack()\n",
    "#brdiff=brdiff.fillna(0)\n",
    "print(brdiff)\n",
    "\n",
    "brdiff.dtypes\n",
    "brdiff =brdiff.iloc[:,1:11].astype(float)\n",
    "\n",
    "from sklearn.cluster import KMeans\n",
    "from sklearn.preprocessing import StandardScaler\n",
    "scaler = StandardScaler()\n",
    "\n",
    "brdiff[\"Dated Brent scaled\"] = scaler.fit_transform(brdiff[\"Dated Brent\"].to_frame())\n",
    "\n",
    "import matplotlib.pyplot as plt  \n",
    "\n",
    "from sklearn import linear_model\n",
    "import statsmodels.api as sm\n",
    "#X = df[['Interest_Rate','Unemployment_Rate']] # here we have 2 variables for multiple regression. If you just want to use one variable for simple linear regression, then use X = df['Interest_Rate'] for example.Alternatively, you may add additional variables within the brackets\n",
    "#Y = df['Stock_Index_Price']\n",
    " \n",
    "# with sklearn\n",
    "#regr = linear_model.LinearRegression()\n",
    "#regr.fit(X, Y)\n",
    "\n",
    "AbsB=brdiff[\"Dated Brent\"].max()\n",
    "brdiff[\"Dated Brent norm\"] = brdiff[\"Dated Brent\"].divide(AbsB)\n",
    "print(brdiff[\"Dated Brent norm\"])\n",
    "\n",
    "X = brdiff[['Dated Brent','Maya USGC']]\n",
    "Y = brdiff['Bonny light']\n",
    "regr = linear_model.LinearRegression()\n",
    "regr.fit(X, Y)\n",
    "print('Intercept: \\n', regr.intercept_)\n",
    "print('Coefficients: \\n', regr.coef_)\n",
    "\n",
    "X = sm.add_constant(X)\n",
    "model = sm.OLS(Y, X).fit()\n",
    "predictions = model.predict(X) \n",
    " \n",
    "print_model = model.summary()\n",
    "print(print_model)\n",
    "\n",
    "New_DB = 64.887\n",
    "New_Maya = -5.675\n",
    "print ('Predicted BL: \\n', regr.predict([[New_DB, New_Maya]]))"
   ]
  },
  {
   "cell_type": "code",
   "execution_count": null,
   "metadata": {},
   "outputs": [],
   "source": []
  },
  {
   "cell_type": "code",
   "execution_count": null,
   "metadata": {},
   "outputs": [],
   "source": [
    "\n"
   ]
  },
  {
   "cell_type": "code",
   "execution_count": null,
   "metadata": {},
   "outputs": [],
   "source": []
  }
 ],
 "metadata": {
  "kernelspec": {
   "display_name": "Python 3",
   "language": "python",
   "name": "python3"
  },
  "language_info": {
   "codemirror_mode": {
    "name": "ipython",
    "version": 3
   },
   "file_extension": ".py",
   "mimetype": "text/x-python",
   "name": "python",
   "nbconvert_exporter": "python",
   "pygments_lexer": "ipython3",
   "version": "3.7.3"
  }
 },
 "nbformat": 4,
 "nbformat_minor": 2
}
