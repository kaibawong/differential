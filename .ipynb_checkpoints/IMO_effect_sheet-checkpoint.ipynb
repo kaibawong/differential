{
 "cells": [
  {
   "cell_type": "code",
   "execution_count": null,
   "metadata": {},
   "outputs": [],
   "source": [
    "import pandas as pd\n",
    "import numpy as np\n",
    "import matplotlib.pyplot as plt  \n",
    "import seaborn as sns\n",
    "\n",
    "IMO = pd.read_table('IMO_effect.csv',delimiter =';')\n",
    "\n",
    "#IMO.loc[:,['350 YLD','350 ASP', '350 ARO','350 PAR']].plot.bar(stacked=True,  figsize=(10,7))\n",
    "\n",
    "\n",
    "IMO"
   ]
  },
  {
   "cell_type": "code",
   "execution_count": null,
   "metadata": {},
   "outputs": [],
   "source": [
    "plt.rcParams['figure.dpi'] = 200\n",
    "\n",
    "\n",
    "from bokeh.plotting import figure, output_file, show, ColumnDataSource\n",
    "\n",
    "\n",
    "#ax = sns.scatterplot(x=IMO['350 PAR'], y=IMO['350 ARO'], hue= IMO[\"Name\"], size=IMO[\"350 ASP\"],data=IMO)\n",
    "#plt.legend(bbox_to_anchor=(1.05, 1), loc=2, borderaxespad=0.)\n",
    "\n",
    "ax = sns.relplot(x='350 PAR', y='350 ARO', hue= 'Location', size='350 SUL',sizes=(0, 1000),alpha=.8, palette=\"muted\",\n",
    "                 data=IMO)\n",
    "#plt.legend(bbox_to_anchor=(1.05, 1), loc=2, borderaxespad=0.)\n",
    "\n",
    "ax = sns.relplot(x='350 ARO', y='350 ASP', hue= 'Location', size='350 SUL',sizes=(0, 1000),alpha=.8, palette=\"muted\",\n",
    "                 data=IMO)"
   ]
  },
  {
   "cell_type": "code",
   "execution_count": null,
   "metadata": {},
   "outputs": [],
   "source": [
    "plt.rcParams['figure.dpi'] = 200\n",
    "\n",
    "\n",
    "from bokeh.plotting import figure, output_file, show, ColumnDataSource\n",
    "\n",
    "\n",
    "#ax = sns.scatterplot(x=IMO['350 PAR'], y=IMO['350 ARO'], hue= IMO[\"Name\"], size=IMO[\"350 ASP\"],data=IMO)\n",
    "#plt.legend(bbox_to_anchor=(1.05, 1), loc=2, borderaxespad=0.)\n",
    "\n",
    "ax = sns.relplot(x='550 PAR', y='550 ARO', hue= 'Location', size='550 SUL',sizes=(0, 1000),alpha=.8, palette=\"muted\",\n",
    "                 data=IMO)\n",
    "#plt.legend(bbox_to_anchor=(1.05, 1), loc=2, borderaxespad=0.)\n",
    "\n",
    "ax = sns.relplot(x='550 PAR', y='550 ASP', hue= 'Location', size='550 SUL',sizes=(0, 1000),alpha=.8, palette=\"muted\",\n",
    "                 data=IMO)"
   ]
  }
 ],
 "metadata": {
  "kernelspec": {
   "display_name": "Python 3",
   "language": "python",
   "name": "python3"
  },
  "language_info": {
   "codemirror_mode": {
    "name": "ipython",
    "version": 3
   },
   "file_extension": ".py",
   "mimetype": "text/x-python",
   "name": "python",
   "nbconvert_exporter": "python",
   "pygments_lexer": "ipython3",
   "version": "3.7.3"
  }
 },
 "nbformat": 4,
 "nbformat_minor": 2
}
