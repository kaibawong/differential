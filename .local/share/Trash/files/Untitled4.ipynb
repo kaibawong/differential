{
 "cells": [
  {
   "cell_type": "code",
   "execution_count": 4,
   "metadata": {},
   "outputs": [],
   "source": [
    "import pandas as pd\n",
    "import numpy as np\n",
    "import matplotlib.pyplot as plt  \n",
    "from sklearn.ensemble import RandomForestRegressor\n",
    "combi = pd.read_table('Historical_combi2.csv',delimiter =';')\n",
    "\n",
    "combi=combi.fillna(0)\n",
    "\n",
    "\n",
    "from sklearn.cluster import KMeans\n",
    "from sklearn.preprocessing import StandardScaler\n",
    "scaler = StandardScaler()\n",
    "\n",
    "from sklearn import linear_model\n",
    "import statsmodels.api as sm\n",
    "\n",
    "\n",
    "# Ask for input"
   ]
  },
  {
   "cell_type": "code",
   "execution_count": 5,
   "metadata": {},
   "outputs": [
    {
     "name": "stdout",
     "output_type": "stream",
     "text": [
      "ESPO\n"
     ]
    }
   ],
   "source": [
    "query =input()"
   ]
  },
  {
   "cell_type": "code",
   "execution_count": 51,
   "metadata": {},
   "outputs": [
    {
     "ename": "TypeError",
     "evalue": "first() missing 1 required positional argument: 'offset'",
     "output_type": "error",
     "traceback": [
      "\u001b[0;31m---------------------------------------------------------------------------\u001b[0m",
      "\u001b[0;31mTypeError\u001b[0m                                 Traceback (most recent call last)",
      "\u001b[0;32m<ipython-input-51-3cf28492da77>\u001b[0m in \u001b[0;36m<module>\u001b[0;34m\u001b[0m\n\u001b[1;32m      4\u001b[0m \u001b[0mtype\u001b[0m\u001b[0;34m(\u001b[0m\u001b[0mm\u001b[0m\u001b[0;34m)\u001b[0m\u001b[0;34m\u001b[0m\u001b[0;34m\u001b[0m\u001b[0m\n\u001b[1;32m      5\u001b[0m \u001b[0mtype\u001b[0m\u001b[0;34m(\u001b[0m\u001b[0mmm\u001b[0m\u001b[0;34m)\u001b[0m\u001b[0;34m\u001b[0m\u001b[0;34m\u001b[0m\u001b[0m\n\u001b[0;32m----> 6\u001b[0;31m \u001b[0mmm\u001b[0m\u001b[0;34m.\u001b[0m\u001b[0mfirst\u001b[0m\u001b[0;34m(\u001b[0m\u001b[0;34m)\u001b[0m\u001b[0;34m\u001b[0m\u001b[0;34m\u001b[0m\u001b[0m\n\u001b[0m",
      "\u001b[0;31mTypeError\u001b[0m: first() missing 1 required positional argument: 'offset'"
     ]
    }
   ],
   "source": [
    "\n",
    "m = combi[query].ne(0).idxmax\n",
    "type(m)\n",
    "mm=combi[query].where(combi[query]!=0)\n",
    "type(m)\n",
    "type(mm)\n",
    "mm.first()\n"
   ]
  },
  {
   "cell_type": "code",
   "execution_count": null,
   "metadata": {},
   "outputs": [],
   "source": [
    "\n",
    "train_combi = combi.iloc[45:150,1:]\n",
    "test_combi = combi.iloc[151:,1:]\n",
    "\n",
    "plt.rcParams['figure.dpi'] = 200\n",
    "\n",
    "#x_train=train_combi.drop(\"Maya Europe\",axis=1)\n",
    "#x_train=train_combi[train_combi.columns.difference([\"Mars\"])]\n",
    "x_train=train_combi[[\"Maya USGC\",\"FO 3.5%\", \"FO 1%\"]]\n",
    "y_train=train_combi[\"Mars\"]\n",
    "\n",
    "#df.drop('b', axis=1)\n",
    "\n",
    "#x_test=train_combi.drop(\"Maya Europe\",axis=1)\n",
    "#x_test=test_combi[test_combi.columns.difference([\"Mars\"])]\n",
    "x_test=test_combi[[\"Maya USGC\",\"FO 3.5%\", \"FO 1%\"]]\n",
    "y_test=test_combi[\"Mars\"].to_frame()\n",
    "\n",
    "\n",
    "\n",
    "regressor = RandomForestRegressor(n_estimators=200, max_depth=5)\n",
    "\n",
    "clf=regressor.fit(x_train, y_train)\n",
    "\n",
    "y_pred=regressor.predict(x_test)\n",
    "y_pred=pd.DataFrame(y_pred)\n",
    "\n",
    "\n",
    "plt_train=plt.scatter(x_train[\"Maya USGC\"],y_train,   color='grey')\n",
    "plt_test=plt.scatter(x_test[\"Maya USGC\"],y_test,   color='green')\n",
    "plt_pred=plt.scatter(x_test[\"Maya USGC\"], y_pred,  color='black')\n",
    "\n",
    "\n",
    "\n",
    "plt.xlabel(\"Maya USGC\")\n",
    "plt.ylabel(\"Mars\")\n",
    "plt.legend((plt_train, plt_test,plt_pred),(\"train data\", \"test data\",\"prediction\"))\n",
    "plt.show()\n",
    "\n",
    "print(\"Mean squared error: %.2f\"\n",
    "      % np.mean((regressor.predict(x_train) - y_train) ** 2))\n",
    "\n",
    "import seaborn as sns\n",
    "importances=regressor.feature_importances_\n",
    "\n",
    "indices=list(x_train)\n",
    "print(\"Feature ranking:\")\n",
    "\n",
    "for f in range(x_train.shape[1]):\n",
    "    print(\"Feature %s (%f)\" % (indices[f], importances[f]))\n",
    "\n",
    "f, (ax1) = plt.subplots(1, 1, figsize=(8, 6), sharex=True)\n",
    "sns.barplot(indices, importances, palette=\"BrBG\", ax=ax1)\n",
    "ax1.set_ylabel(\"Importance\")\n",
    "\n",
    "ax1.set_xticklabels(\n",
    "    ax1.get_xticklabels(),\n",
    "    rotation=45,\n",
    "    horizontalalignment='right'\n",
    ");"
   ]
  },
  {
   "cell_type": "code",
   "execution_count": null,
   "metadata": {},
   "outputs": [],
   "source": []
  }
 ],
 "metadata": {
  "kernelspec": {
   "display_name": "Python 3",
   "language": "python",
   "name": "python3"
  },
  "language_info": {
   "codemirror_mode": {
    "name": "ipython",
    "version": 3
   },
   "file_extension": ".py",
   "mimetype": "text/x-python",
   "name": "python",
   "nbconvert_exporter": "python",
   "pygments_lexer": "ipython3",
   "version": "3.7.3"
  }
 },
 "nbformat": 4,
 "nbformat_minor": 2
}
