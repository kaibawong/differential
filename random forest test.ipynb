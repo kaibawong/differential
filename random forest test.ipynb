{
 "cells": [
  {
   "cell_type": "code",
   "execution_count": 14,
   "metadata": {},
   "outputs": [
    {
     "name": "stdout",
     "output_type": "stream",
     "text": [
      "           Date Dated Brent Bonny light Mars    WTI Maya Europe Maya USGC  \\\n",
      "0    01.01.2000        25.5           0    0      0           0         0   \n",
      "1    01.02.2000        27.9           0    0      0           0         0   \n",
      "2    01.03.2000        27.3           0    0      0           0         0   \n",
      "3    01.04.2000        22.6           0    0      0           0         0   \n",
      "4    01.05.2000        27.6           0    0      0           0         0   \n",
      "..          ...         ...         ...  ...    ...         ...       ...   \n",
      "231  01.04.2019        71.3         1.4  5.1   -7.4        -9.8      -6.5   \n",
      "232  01.05.2019        71.1         1.9  5.9  -10.3       -10.1      -8.4   \n",
      "233  01.06.2019        64.1         1.7  4.8   -9.4        -8.1      -5.2   \n",
      "234  01.07.2019        64.0         1.4  4.5   -6.5        -6.9      -4.1   \n",
      "235  01.08.2019        59.0         1.3  2.3   -4.2       -12.6      -8.0   \n",
      "\n",
      "     ESPO Urals NWE Urals MED Dubai  \n",
      "0       0      -0.5      -0.5  -2.2  \n",
      "1       0      -0.5      -0.5  -3.2  \n",
      "2       0      -1.0      -1.5  -2.2  \n",
      "3       0      -1.0      -1.4  -0.5  \n",
      "4       0      -0.6      -1.2  -1.9  \n",
      "..    ...       ...       ...   ...  \n",
      "231   1.7      -0.1       0.4  -0.3  \n",
      "232   0.5      -0.9      -0.2  -1.7  \n",
      "233  -0.2      -2.7      -2.5  -2.3  \n",
      "234   2.3      -1.1      -0.5  -0.8  \n",
      "235   4.2      -0.1       1.2   0.1  \n",
      "\n",
      "[236 rows x 11 columns]\n",
      "     Dated Brent  Bonny light  Mars   WTI  Maya Europe  Maya USGC  ESPO  \\\n",
      "136        114.6          2.9   7.8 -13.2        -12.5      -13.3  -1.0   \n",
      "137        114.0          2.3  11.7 -17.7        -11.9      -13.4  -3.2   \n",
      "138        116.9          1.9  14.5 -19.6        -11.2      -14.2  -3.0   \n",
      "139        110.4          3.0  21.0 -24.0         -9.2      -14.5  -1.0   \n",
      "140        113.1          3.5  24.3 -27.6         -9.9      -15.8  -2.5   \n",
      "..           ...          ...   ...   ...          ...        ...   ...   \n",
      "231         71.3          1.4   5.1  -7.4         -9.8       -6.5   1.7   \n",
      "232         71.1          1.9   5.9 -10.3        -10.1       -8.4   0.5   \n",
      "233         64.1          1.7   4.8  -9.4         -8.1       -5.2  -0.2   \n",
      "234         64.0          1.4   4.5  -6.5         -6.9       -4.1   2.3   \n",
      "235         59.0          1.3   2.3  -4.2        -12.6       -8.0   4.2   \n",
      "\n",
      "     Urals NWE  Urals MED  Dubai  \n",
      "136       -3.1       -3.6   -6.2  \n",
      "137       -2.5       -2.4   -6.3  \n",
      "138       -1.8       -2.0   -6.9  \n",
      "139       -1.1       -1.2   -5.4  \n",
      "140       -2.8       -2.7   -6.8  \n",
      "..         ...        ...    ...  \n",
      "231       -0.1        0.4   -0.3  \n",
      "232       -0.9       -0.2   -1.7  \n",
      "233       -2.7       -2.5   -2.3  \n",
      "234       -1.1       -0.5   -0.8  \n",
      "235       -0.1        1.2    0.1  \n",
      "\n",
      "[100 rows x 10 columns]\n",
      "     Dated Brent   WTI  Urals NWE  Urals MED\n",
      "0           25.5   0.0       -0.5       -0.5\n",
      "1           27.9   0.0       -0.5       -0.5\n",
      "2           27.3   0.0       -1.0       -1.5\n",
      "3           22.6   0.0       -1.0       -1.4\n",
      "4           27.6   0.0       -0.6       -1.2\n",
      "..           ...   ...        ...        ...\n",
      "131         91.4  -2.0       -1.9       -1.7\n",
      "132         96.5  -6.9       -2.7       -2.8\n",
      "133        103.8 -13.6       -2.3       -2.3\n",
      "134        114.6 -11.6       -3.6       -3.1\n",
      "135        123.5 -13.4       -4.5       -4.1\n",
      "\n",
      "[136 rows x 4 columns]\n",
      "0       0.0\n",
      "1       0.0\n",
      "2       0.0\n",
      "3       0.0\n",
      "4       0.0\n",
      "       ... \n",
      "131     0.2\n",
      "132     3.1\n",
      "133    10.8\n",
      "134     8.5\n",
      "135     8.7\n",
      "Name: Mars, Length: 136, dtype: float64\n"
     ]
    }
   ],
   "source": [
    "from sklearn.ensemble import RandomForestRegressor\n",
    "# 1.- Data Preparation\n",
    "\n",
    "import pandas as pd\n",
    "import numpy as np\n",
    "brdiff = pd.read_table('Historical marker crude prices_csv.csv',delimiter =';')\n",
    "brdiff = brdiff.stack().str.replace(',','.').unstack()\n",
    "brdiff=brdiff.fillna(0)\n",
    "print(brdiff)\n",
    "\n",
    "brdiff.dtypes\n",
    "brdiff =brdiff.iloc[:,1:11].astype(float)\n",
    "\n",
    "\n",
    "train = brdiff.iloc[:-100]\n",
    "test = brdiff.iloc[-100:]\n",
    "\n",
    "\n",
    "print(test)\n",
    "\n",
    "x_train=train[[\"Dated Brent\",\"WTI\",\"Urals NWE\",\"Urals MED\"]]\n",
    "y_train=train[\"Mars\"]\n",
    "print(x_train)\n",
    "print(y_train)\n",
    "\n",
    "\n",
    "x_test=test[[\"Dated Brent\",\"WTI\",\"Urals NWE\",\"Urals MED\"]] \n",
    "y_test=test[\"Mars\"].to_frame()\n",
    "\n",
    "\n"
   ]
  },
  {
   "cell_type": "code",
   "execution_count": 29,
   "metadata": {},
   "outputs": [
    {
     "data": {
      "image/png": "[encoded data removed]",
      "text/plain": [
       "<Figure size 432x288 with 1 Axes>"
      ]
     },
     "metadata": {
      "needs_background": "light"
     },
     "output_type": "display_data"
    },
    {
     "name": "stdout",
     "output_type": "stream",
     "text": [
      "Mean squared error: 1.47\n"
     ]
    }
   ],
   "source": [
    "import matplotlib.pyplot as plt \n",
    "\n",
    "regressor = RandomForestRegressor(n_estimators=200, max_depth=5)\n",
    "\n",
    "clf=regressor.fit(x_train, y_train)\n",
    "\n",
    "y_pred=regressor.predict(x_test)\n",
    "y_pred=pd.DataFrame(y_pred)\n",
    "\n",
    "\n",
    "plt_train=plt.scatter(x_train[\"Dated Brent\"],y_train,   color='grey')\n",
    "plt_test=plt.scatter(x_test[\"Dated Brent\"],y_test,   color='green')\n",
    "plt_pred=plt.scatter(x_test[\"Dated Brent\"], y_pred,  color='black')\n",
    "\n",
    "plt.xlabel(\"Dated Brent\")\n",
    "plt.ylabel(\"Mars\")\n",
    "plt.legend((plt_train, plt_test,plt_pred),(\"train data\", \"test data\",\"prediction\"))\n",
    "plt.show()\n",
    "\n",
    "print(\"Mean squared error: %.2f\"\n",
    "      % np.mean((regressor.predict(x_train) - y_train) ** 2))"
   ]
  },
  {
   "cell_type": "code",
   "execution_count": 31,
   "metadata": {},
   "outputs": [
    {
     "name": "stdout",
     "output_type": "stream",
     "text": [
      "Feature ranking:\n",
      "Feature Dated Brent (0.068351)\n",
      "Feature WTI (0.499725)\n",
      "Feature Urals NWE (0.404239)\n",
      "Feature Urals MED (0.027685)\n"
     ]
    },
    {
     "data": {
      "text/plain": [
       "Text(0, 0.5, 'Importance')"
      ]
     },
     "execution_count": 31,
     "metadata": {},
     "output_type": "execute_result"
    },
    {
     "data": {
      "image/png": "[encoded data removed]",
      "text/plain": [
       "<Figure size 576x432 with 1 Axes>"
      ]
     },
     "metadata": {
      "needs_background": "light"
     },
     "output_type": "display_data"
    }
   ],
   "source": [
    "import seaborn as sns\n",
    "importances=regressor.feature_importances_\n",
    "\n",
    "indices=list(x_train)\n",
    "print(\"Feature ranking:\")\n",
    "\n",
    "for f in range(x_train.shape[1]):\n",
    "    print(\"Feature %s (%f)\" % (indices[f], importances[f]))\n",
    "\n",
    "f, (ax1) = plt.subplots(1, 1, figsize=(8, 6), sharex=True)\n",
    "sns.barplot(indices, importances, palette=\"BrBG\", ax=ax1)\n",
    "ax1.set_ylabel(\"Importance\")\n",
    "\n"
   ]
  },
  {
   "cell_type": "code",
   "execution_count": null,
   "metadata": {},
   "outputs": [],
   "source": []
  }
 ],
 "metadata": {
  "kernelspec": {
   "display_name": "Python 3",
   "language": "python",
   "name": "python3"
  },
  "language_info": {
   "codemirror_mode": {
    "name": "ipython",
    "version": 3
   },
   "file_extension": ".py",
   "mimetype": "text/x-python",
   "name": "python",
   "nbconvert_exporter": "python",
   "pygments_lexer": "ipython3",
   "version": "3.7.3"
  }
 },
 "nbformat": 4,
 "nbformat_minor": 2
}
