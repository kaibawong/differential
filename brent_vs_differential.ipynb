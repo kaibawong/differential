import pandas as pd
import numpy as np
import matplotlib.pyplot as plt  #pip install matplotlib if error

BvsP = pd.read_table('Brent Historical Data.csv',delimiter =';')

print(BvsP)
BvsP.head()

BvsP[['Date','BRE']]
#plt.plot(BvsP['Date'],BvsP['BRE'],'x')
#plt.show()

#plt.scatter(BvsP['Date'],BvsP['BRE'],marker='o')
#plt.show()

BvsP.iloc[0:2,:]

df = pd.DataFrame({'A': range(4), 'B': [2*i for i in range(4)]})
df['A'].corr(df['B'])

BvsP = BvsP.stack().str.replace(',','.').unstack()
BvsP=BvsP.fillna(0)
print(BvsP)


BvsP.dtypes
BvsP =BvsP.iloc[:,1:-1].astype(float)
A =BvsP.corr(method = 'kendall')

brdiff = pd.read_table('Historical marker crude prices_csv.csv',delimiter =';')
brdiff = brdiff.stack().str.replace(',','.').unstack()
brdiff=brdiff.fillna(0)
print(brdiff)

brdiff.dtypes
brdiff =brdiff.iloc[:,1:-1].astype(float)
B = brdiff.corr(method = 'kendall')

brdiff.corr(method = 'kendall')



import seaborn as sns

plt.rcParams['figure.dpi'] = 300
#plt.figure(figsize=(15,15))
ax = sns.heatmap(B,vmin=-1, vmax=1, center=0,
    cmap=sns.diverging_palette(20, 220, n=100),
    square=True)

ax.set_xticklabels(
    ax.get_xticklabels(),
    rotation=45,
    horizontalalignment='right'
);

import seaborn as sns

plt.rcParams['figure.dpi'] = 300
#plt.figure(figsize=(15,15))
ax = sns.heatmap(A,vmin=-1, vmax=1, center=0,
    cmap=sns.diverging_palette(20, 220, n=100),
    square=True)

ax.set_xticklabels(
    ax.get_xticklabels(),
    rotation=45,
    horizontalalignment='right'


plt.scatter(brdiff.iloc[:,0],brdiff.iloc[:,7])



sns.set(style="ticks", color_codes=True)
g = sns.pairplot(brdiff)
g = sns.pairplot(brdiff,kind ="reg")


palette=sns.cubehelix_palette(5, start=2, rot=0, dark=0, light=.95, reverse=False)
k = sns.pairplot(brdiff,hue='Date',palette=palette)








